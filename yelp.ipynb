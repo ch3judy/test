{
 "cells": [
  {
   "cell_type": "code",
   "execution_count": 2,
   "metadata": {
    "collapsed": true
   },
   "outputs": [],
   "source": [
    "from urllib import urlopen\n",
    "from bs4 import BeautifulSoup\n",
    "urlString = r'https://www.yelp.com/biz/yellow-cab-nyc-new-york-2'\n",
    "url = urlopen(urlString)\n",
    "soup = BeautifulSoup(url, 'html.parser')\n",
    "comment_list = soup.find_all(itemprop='description')\n",
    "review_list = []\n",
    "for entry in comment_list:\n",
    "    review_list.append(entry.get_text().replace('\\n',''))\n",
    "\n",
    "\n",
    "i = 20\n",
    "while i <= 80:\n",
    "    i= str(i)\n",
    "    url= ('https://www.yelp.com/biz/yellow-cab-nyc-new-york-2?start='+i)\n",
    "    url = urlopen(url)    \n",
    "    soup = BeautifulSoup(url, 'html.parser')\n",
    "    comment_list = soup.find_all(itemprop='description')\n",
    "    for entry in comment_list:\n",
    "        review_list.append(entry.get_text().replace('\\n',''))\n",
    "    i = int(i)\n",
    "    i += 20\n",
    "\n",
    "review_list"
   ]
  },
  {
   "cell_type": "code",
   "execution_count": 3,
   "metadata": {},
   "outputs": [
    {
     "data": {
      "text/plain": [
       "list"
      ]
     },
     "execution_count": 3,
     "metadata": {},
     "output_type": "execute_result"
    }
   ],
   "source": [
    "type(review_list)"
   ]
  },
  {
   "cell_type": "code",
   "execution_count": 4,
   "metadata": {},
   "outputs": [
    {
     "data": {
      "text/plain": [
       "98"
      ]
     },
     "execution_count": 4,
     "metadata": {},
     "output_type": "execute_result"
    }
   ],
   "source": [
    "len(review_list)"
   ]
  },
  {
   "cell_type": "code",
   "execution_count": 5,
   "metadata": {},
   "outputs": [],
   "source": [
    "thefile = open('test.txt', 'w')\n",
    "for item in review_list:\n",
    "  thefile.write(\"%s\\n\" % item)"
   ]
  },
  {
   "cell_type": "code",
   "execution_count": null,
   "metadata": {},
   "outputs": [],
   "source": [
    ""
   ]
  }
 ],
 "metadata": {
  "kernelspec": {
   "display_name": "Python 2",
   "language": "python",
   "name": "python2"
  },
  "language_info": {
   "codemirror_mode": {
    "name": "ipython",
    "version": 2.0
   },
   "file_extension": ".py",
   "mimetype": "text/x-python",
   "name": "python",
   "nbconvert_exporter": "python",
   "pygments_lexer": "ipython2",
   "version": "2.7.6"
  }
 },
 "nbformat": 4,
 "nbformat_minor": 0
}